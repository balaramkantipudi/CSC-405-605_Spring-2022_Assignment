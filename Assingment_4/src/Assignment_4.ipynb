{
 "cells": [
  {
   "cell_type": "markdown",
   "id": "55be943e",
   "metadata": {},
   "source": [
    "## Plotting Titanic Dataset"
   ]
  },
  {
   "cell_type": "markdown",
   "id": "f7abf66a",
   "metadata": {},
   "source": [
    "### Import libraries"
   ]
  },
  {
   "cell_type": "code",
   "execution_count": null,
   "id": "e3c3b5e6",
   "metadata": {},
   "outputs": [],
   "source": [
    "import pandas as pd\n",
    "import numpy as np\n",
    "import matplotlib.pyplot as plt"
   ]
  },
  {
   "cell_type": "markdown",
   "id": "e287c6e6",
   "metadata": {},
   "source": [
    "Note : Install matplotlib if not installed"
   ]
  },
  {
   "cell_type": "code",
   "execution_count": null,
   "id": "54749297",
   "metadata": {},
   "outputs": [],
   "source": [
    "import pandas as pd\n",
    "\n",
    "# you would need xlrd - pip install xlrd\n",
    "t_file = pd.ExcelFile(\"../data/titanic.xls\")\n",
    "t_df = t_file.parse(\"titanic\", header=0)\n",
    "t_df.head()"
   ]
  },
  {
   "cell_type": "code",
   "execution_count": null,
   "id": "c278d947",
   "metadata": {},
   "outputs": [],
   "source": [
    "survived_titanic = t_df.loc[t_df['survived'] == 1]"
   ]
  },
  {
   "cell_type": "code",
   "execution_count": null,
   "id": "77f98c4f",
   "metadata": {},
   "outputs": [],
   "source": [
    "survived_titanic"
   ]
  },
  {
   "cell_type": "code",
   "execution_count": null,
   "id": "e8df3dbe",
   "metadata": {},
   "outputs": [],
   "source": [
    "titanic_ps = survived_titanic.groupby(['pclass'])['survived'].size()\n",
    "titanic_ps"
   ]
  },
  {
   "cell_type": "code",
   "execution_count": null,
   "id": "ae08df62",
   "metadata": {},
   "outputs": [],
   "source": [
    "titanic_ps = titanic_ps.reset_index()\n",
    "titanic_ps"
   ]
  },
  {
   "cell_type": "markdown",
   "id": "7904c214",
   "metadata": {},
   "source": [
    "## Task 1"
   ]
  },
  {
   "cell_type": "markdown",
   "id": "71de7ee7",
   "metadata": {},
   "source": [
    "### Bar chart using matplotlib"
   ]
  },
  {
   "cell_type": "code",
   "execution_count": null,
   "id": "9dd2eaa9",
   "metadata": {},
   "outputs": [],
   "source": [
    "fig = plt.figure(figsize= (20,3))\n",
    "\n",
    "\n",
    "fig.ax = plt.subplots(1,1)\n",
    "plt.bar(titanic_ps['pclass'], titanic_ps['survived'])\n",
    "plt.xlabel('Passenger Class')\n",
    "plt.ylabel('Survivors')\n",
    "\n",
    "plt.show()"
   ]
  },
  {
   "cell_type": "markdown",
   "id": "3dc319f2",
   "metadata": {},
   "source": [
    "### Histogram using matplotlib"
   ]
  },
  {
   "cell_type": "code",
   "execution_count": null,
   "id": "80eedd38",
   "metadata": {},
   "outputs": [],
   "source": [
    "\n",
    "fig.ax = plt.subplots(1,1)\n",
    "plt.hist(survived_titanic['fare'], bins = 30)\n",
    "plt.xlabel('Fare')\n",
    "plt.ylabel('bins')\n",
    "\n",
    "plt.show()"
   ]
  },
  {
   "cell_type": "markdown",
   "id": "86fac096",
   "metadata": {},
   "source": [
    "### Note : Install plotly and import as px"
   ]
  },
  {
   "cell_type": "code",
   "execution_count": null,
   "id": "0ca84ccd",
   "metadata": {},
   "outputs": [],
   "source": [
    "import plotly.express as px"
   ]
  },
  {
   "cell_type": "markdown",
   "id": "e4c545cc",
   "metadata": {},
   "source": [
    "### Barchart with Plotly"
   ]
  },
  {
   "cell_type": "code",
   "execution_count": null,
   "id": "dea8f48c",
   "metadata": {},
   "outputs": [],
   "source": [
    "fig = px.bar(titanic_ps['pclass'], titanic_ps['survived'])\n",
    "fig.update_yaxes(ticklabelposition=\"outside bottom\", title='Class')\n",
    "fig.update_xaxes(ticklabelposition=\"outside bottom\", title='Survived')\n",
    "\n",
    "fig.show()"
   ]
  },
  {
   "cell_type": "markdown",
   "id": "65e1e9e7",
   "metadata": {},
   "source": [
    "### Histogram with plotly"
   ]
  },
  {
   "cell_type": "code",
   "execution_count": null,
   "id": "5bf22151",
   "metadata": {},
   "outputs": [],
   "source": [
    "\n",
    "# Here we use a column with categorical data\n",
    "fig = px.histogram(t_df, x=\"fare\", nbins = 30)\n",
    "fig.show()\n"
   ]
  },
  {
   "cell_type": "markdown",
   "id": "4e8e0cb8",
   "metadata": {},
   "source": [
    "## Task 2"
   ]
  },
  {
   "cell_type": "markdown",
   "id": "dcda30a4",
   "metadata": {},
   "source": [
    "With Plotly, display maps of demographic information on the county level.\n",
    "\n",
    "Create a Choropleth map and show the total population on the county level.\n",
    "\n",
    "  a) Set an appriorate values for range_color (use your distrection as to what makes sense)\n"
   ]
  },
  {
   "cell_type": "code",
   "execution_count": null,
   "id": "a92f27b9",
   "metadata": {},
   "outputs": [],
   "source": [
    "from urllib.request import urlopen\n",
    "import json\n",
    "with urlopen('https://raw.githubusercontent.com/plotly/datasets/master/geojson-counties-fips.json') as response:\n",
    "    counties = json.load(response)"
   ]
  },
  {
   "cell_type": "code",
   "execution_count": null,
   "id": "8ac7214b",
   "metadata": {},
   "outputs": [],
   "source": [
    "c_df = pd.read_csv(\"https://raw.githubusercontent.com/ryanschaub/US-Census-Demographic-Data/master/acs2015_county_data.csv\")\n",
    "c_df\n",
    "\n",
    "#c_df = pd.read_csv(\"../data/acs2015_county_data.csv\")\n",
    "#c_df\n",
    "# The above relative path is not readble so, took the whole path"
   ]
  },
  {
   "cell_type": "markdown",
   "id": "3660b6f1",
   "metadata": {},
   "source": [
    "### Total Population"
   ]
  },
  {
   "cell_type": "code",
   "execution_count": null,
   "id": "6e8c96a6",
   "metadata": {},
   "outputs": [],
   "source": [
    "fig = px.choropleth(c_df, geojson=counties, locations='CensusId', color='TotalPop',\n",
    "                           color_continuous_scale=\"purples\",\n",
    "                           range_color=(0, 20000),\n",
    "                           scope=\"usa\",\n",
    "                           labels={'TotalPop':'Total Population'}\n",
    "                          )\n",
    "\n",
    "\n",
    "fig.show()"
   ]
  },
  {
   "cell_type": "markdown",
   "id": "b95131c6",
   "metadata": {},
   "source": [
    "### Men's population"
   ]
  },
  {
   "cell_type": "code",
   "execution_count": null,
   "id": "3345f6a5",
   "metadata": {},
   "outputs": [],
   "source": [
    "fig = px.choropleth(c_df, geojson=counties, locations='CensusId', color='Men',\n",
    "                           color_continuous_scale=\"peach\",\n",
    "                           range_color=(0, 20000),\n",
    "                           scope=\"usa\",\n",
    "                           labels={'Men':'Men Population'}\n",
    "                          )\n",
    "\n",
    "\n",
    "fig.show()"
   ]
  },
  {
   "cell_type": "markdown",
   "id": "82f8a3eb",
   "metadata": {},
   "source": [
    "### Women's population"
   ]
  },
  {
   "cell_type": "code",
   "execution_count": null,
   "id": "38f7d353",
   "metadata": {},
   "outputs": [],
   "source": [
    "fig = px.choropleth(c_df, geojson=counties, locations='CensusId', color='Women',\n",
    "                           color_continuous_scale=\"teal\",\n",
    "                           range_color=(0, 20000),\n",
    "                           scope=\"usa\",\n",
    "                           labels={'Women':'Women Population'}\n",
    "                          )\n",
    "\n",
    "\n",
    "fig.show()"
   ]
  },
  {
   "cell_type": "code",
   "execution_count": null,
   "id": "79565c63",
   "metadata": {},
   "outputs": [],
   "source": []
  }
 ],
 "metadata": {
  "kernelspec": {
   "display_name": "Python 3 (ipykernel)",
   "language": "python",
   "name": "python3"
  },
  "language_info": {
   "codemirror_mode": {
    "name": "ipython",
    "version": 3
   },
   "file_extension": ".py",
   "mimetype": "text/x-python",
   "name": "python",
   "nbconvert_exporter": "python",
   "pygments_lexer": "ipython3",
   "version": "3.9.6"
  }
 },
 "nbformat": 4,
 "nbformat_minor": 5
}
