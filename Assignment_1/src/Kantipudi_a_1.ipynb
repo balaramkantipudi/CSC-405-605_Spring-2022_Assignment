{
 "cells": [
  {
   "cell_type": "code",
   "execution_count": null,
   "id": "b21e8401-3dad-459c-b9d2-b47374d3e288",
   "metadata": {},
   "outputs": [],
   "source": [
    "# import csv to retrive csv file\n",
    "import csv\n",
    "\n",
    "# import random for generating random integer\n",
    "import random\n",
    "from random import randint\n",
    "\n",
    "# read tsv file with the help of csv\n",
    "with open ('C:\\\\Users\\\\kbala\\\\OneDrive\\\\Documents\\\\sp-22-students.tsv.tsv','rt') as file:\n",
    "    reader = csv.reader(file, delimiter=\"\\t\")\n",
    "    students = list(reader)\n",
    "\n",
    "# remove first column as its just heading\n",
    "students.remove(students[0])\n",
    "\n",
    "# find the size of class\n",
    "classsize = len(students)\n",
    "\n",
    "# read number of teams from user\n",
    "count = int(input(\"Enter integer:\"))\n",
    "\n",
    "# this means we are the beginning of a group, and should print a title\n",
    "if count == 1:\n",
    "    print(students)\n",
    "elif count > classsize:\n",
    "    print(\"enter valid input\")\n",
    "elif count < 1:\n",
    "    print(\"enter valid input\")\n",
    "count1 = count\n",
    "\n",
    "l = []\n",
    "for i in range(0, count):\n",
    "    l.append(int(classsize/count))\n",
    "\n",
    "count1 = classsize%count\n",
    "r = 0\n",
    "\n",
    "while count1 > 0:\n",
    "    l[r] = l[r] + 1\n",
    "    r = r + 1\n",
    "    count1 = count1 - 1\n",
    "\n",
    "for i in range(0, count):\n",
    "    stu = random.sample(students, l[i])\n",
    "    print(stu)\n",
    "    \n",
    "    for element in stu:\n",
    "        students.remove(element)\n",
    "    \n",
    "    stu.clear()"
   ]
  },
  {
   "cell_type": "code",
   "execution_count": null,
   "id": "c5f60830-0576-45cc-aef3-e5567e9dcd9a",
   "metadata": {},
   "outputs": [],
   "source": []
  }
 ],
 "metadata": {
  "kernelspec": {
   "display_name": "Python 3 (ipykernel)",
   "language": "python",
   "name": "python3"
  },
  "language_info": {
   "codemirror_mode": {
    "name": "ipython",
    "version": 3
   },
   "file_extension": ".py",
   "mimetype": "text/x-python",
   "name": "python",
   "nbconvert_exporter": "python",
   "pygments_lexer": "ipython3",
   "version": "3.9.6"
  }
 },
 "nbformat": 4,
 "nbformat_minor": 5
}
